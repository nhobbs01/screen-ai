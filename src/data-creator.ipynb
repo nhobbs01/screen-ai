{
 "cells": [
  {
   "cell_type": "code",
   "execution_count": 25,
   "metadata": {},
   "outputs": [],
   "source": [
    "import pandas as pd\n",
    "from datasets import Dataset, Image"
   ]
  },
  {
   "cell_type": "code",
   "execution_count": 2,
   "metadata": {},
   "outputs": [],
   "source": [
    "df = pd.read_csv(f'../screen_annotation/train.csv')"
   ]
  },
  {
   "cell_type": "code",
   "execution_count": 3,
   "metadata": {},
   "outputs": [
    {
     "data": {
      "text/html": [
       "<div>\n",
       "<style scoped>\n",
       "    .dataframe tbody tr th:only-of-type {\n",
       "        vertical-align: middle;\n",
       "    }\n",
       "\n",
       "    .dataframe tbody tr th {\n",
       "        vertical-align: top;\n",
       "    }\n",
       "\n",
       "    .dataframe thead th {\n",
       "        text-align: right;\n",
       "    }\n",
       "</style>\n",
       "<table border=\"1\" class=\"dataframe\">\n",
       "  <thead>\n",
       "    <tr style=\"text-align: right;\">\n",
       "      <th></th>\n",
       "      <th>screen_id</th>\n",
       "      <th>screen_annotation</th>\n",
       "    </tr>\n",
       "  </thead>\n",
       "  <tbody>\n",
       "    <tr>\n",
       "      <th>0</th>\n",
       "      <td>39382</td>\n",
       "      <td>TEXT Currency code 79 923 78 111, LIST_ITEM 45...</td>\n",
       "    </tr>\n",
       "    <tr>\n",
       "      <th>1</th>\n",
       "      <td>11969</td>\n",
       "      <td>PICTOGRAM thumbs up 390 607 59 228 (IMAGE a si...</td>\n",
       "    </tr>\n",
       "    <tr>\n",
       "      <th>2</th>\n",
       "      <td>17058</td>\n",
       "      <td>TOOLBAR 0 999 30 109 (PICTOGRAM three bars 0 1...</td>\n",
       "    </tr>\n",
       "    <tr>\n",
       "      <th>3</th>\n",
       "      <td>876</td>\n",
       "      <td>TOOLBAR 0 999 31 108 (PICTOGRAM a black backgr...</td>\n",
       "    </tr>\n",
       "    <tr>\n",
       "      <th>4</th>\n",
       "      <td>30751</td>\n",
       "      <td>TOOLBAR 0 999 31 109 (TEXT Inbox 40 158 54 85,...</td>\n",
       "    </tr>\n",
       "    <tr>\n",
       "      <th>...</th>\n",
       "      <td>...</td>\n",
       "      <td>...</td>\n",
       "    </tr>\n",
       "    <tr>\n",
       "      <th>15543</th>\n",
       "      <td>34202</td>\n",
       "      <td>PICTOGRAM the logo for husheed is white on a r...</td>\n",
       "    </tr>\n",
       "    <tr>\n",
       "      <th>15544</th>\n",
       "      <td>5989</td>\n",
       "      <td>PICTOGRAM arrow backward 0 132 31 109, TOOLBAR...</td>\n",
       "    </tr>\n",
       "    <tr>\n",
       "      <th>15545</th>\n",
       "      <td>21494</td>\n",
       "      <td>TOOLBAR 0 999 31 103 (PICTOGRAM a black cross ...</td>\n",
       "    </tr>\n",
       "    <tr>\n",
       "      <th>15546</th>\n",
       "      <td>49407</td>\n",
       "      <td>TEXT Wallet accounts 220 772 165 220, TEXT In ...</td>\n",
       "    </tr>\n",
       "    <tr>\n",
       "      <th>15547</th>\n",
       "      <td>69156</td>\n",
       "      <td>IMAGE a screen shows the temperature at 47 deg...</td>\n",
       "    </tr>\n",
       "  </tbody>\n",
       "</table>\n",
       "<p>15548 rows × 2 columns</p>\n",
       "</div>"
      ],
      "text/plain": [
       "       screen_id                                  screen_annotation\n",
       "0          39382  TEXT Currency code 79 923 78 111, LIST_ITEM 45...\n",
       "1          11969  PICTOGRAM thumbs up 390 607 59 228 (IMAGE a si...\n",
       "2          17058  TOOLBAR 0 999 30 109 (PICTOGRAM three bars 0 1...\n",
       "3            876  TOOLBAR 0 999 31 108 (PICTOGRAM a black backgr...\n",
       "4          30751  TOOLBAR 0 999 31 109 (TEXT Inbox 40 158 54 85,...\n",
       "...          ...                                                ...\n",
       "15543      34202  PICTOGRAM the logo for husheed is white on a r...\n",
       "15544       5989  PICTOGRAM arrow backward 0 132 31 109, TOOLBAR...\n",
       "15545      21494  TOOLBAR 0 999 31 103 (PICTOGRAM a black cross ...\n",
       "15546      49407  TEXT Wallet accounts 220 772 165 220, TEXT In ...\n",
       "15547      69156  IMAGE a screen shows the temperature at 47 deg...\n",
       "\n",
       "[15548 rows x 2 columns]"
      ]
     },
     "execution_count": 3,
     "metadata": {},
     "output_type": "execute_result"
    }
   ],
   "source": [
    "df"
   ]
  },
  {
   "cell_type": "code",
   "execution_count": 6,
   "metadata": {},
   "outputs": [],
   "source": [
    "base_image_path = 'C:/Users/milia.io/Downloads/combined/'"
   ]
  },
  {
   "cell_type": "code",
   "execution_count": 9,
   "metadata": {},
   "outputs": [],
   "source": [
    "df['file_path'] = df['screen_id'].map(lambda x: base_image_path+f\"{x}.jpg\")\n"
   ]
  },
  {
   "cell_type": "code",
   "execution_count": 15,
   "metadata": {},
   "outputs": [
    {
     "data": {
      "text/html": [
       "<div>\n",
       "<style scoped>\n",
       "    .dataframe tbody tr th:only-of-type {\n",
       "        vertical-align: middle;\n",
       "    }\n",
       "\n",
       "    .dataframe tbody tr th {\n",
       "        vertical-align: top;\n",
       "    }\n",
       "\n",
       "    .dataframe thead th {\n",
       "        text-align: right;\n",
       "    }\n",
       "</style>\n",
       "<table border=\"1\" class=\"dataframe\">\n",
       "  <thead>\n",
       "    <tr style=\"text-align: right;\">\n",
       "      <th></th>\n",
       "      <th>screen_id</th>\n",
       "      <th>screen_annotation</th>\n",
       "      <th>file_path</th>\n",
       "    </tr>\n",
       "  </thead>\n",
       "  <tbody>\n",
       "    <tr>\n",
       "      <th>0</th>\n",
       "      <td>39382</td>\n",
       "      <td>TEXT Currency code 79 923 78 111, LIST_ITEM 45...</td>\n",
       "      <td>C:/Users/milia.io/Downloads/combined/39382.jpg</td>\n",
       "    </tr>\n",
       "    <tr>\n",
       "      <th>1</th>\n",
       "      <td>11969</td>\n",
       "      <td>PICTOGRAM thumbs up 390 607 59 228 (IMAGE a si...</td>\n",
       "      <td>C:/Users/milia.io/Downloads/combined/11969.jpg</td>\n",
       "    </tr>\n",
       "    <tr>\n",
       "      <th>2</th>\n",
       "      <td>17058</td>\n",
       "      <td>TOOLBAR 0 999 30 109 (PICTOGRAM three bars 0 1...</td>\n",
       "      <td>C:/Users/milia.io/Downloads/combined/17058.jpg</td>\n",
       "    </tr>\n",
       "    <tr>\n",
       "      <th>3</th>\n",
       "      <td>876</td>\n",
       "      <td>TOOLBAR 0 999 31 108 (PICTOGRAM a black backgr...</td>\n",
       "      <td>C:/Users/milia.io/Downloads/combined/876.jpg</td>\n",
       "    </tr>\n",
       "    <tr>\n",
       "      <th>4</th>\n",
       "      <td>30751</td>\n",
       "      <td>TOOLBAR 0 999 31 109 (TEXT Inbox 40 158 54 85,...</td>\n",
       "      <td>C:/Users/milia.io/Downloads/combined/30751.jpg</td>\n",
       "    </tr>\n",
       "    <tr>\n",
       "      <th>5</th>\n",
       "      <td>47012</td>\n",
       "      <td>LIST_ITEM 30 482 16 232 (PICTOGRAM a blue circ...</td>\n",
       "      <td>C:/Users/milia.io/Downloads/combined/47012.jpg</td>\n",
       "    </tr>\n",
       "    <tr>\n",
       "      <th>6</th>\n",
       "      <td>56749</td>\n",
       "      <td>PICTOGRAM a white arrow pointing to the left o...</td>\n",
       "      <td>C:/Users/milia.io/Downloads/combined/56749.jpg</td>\n",
       "    </tr>\n",
       "    <tr>\n",
       "      <th>7</th>\n",
       "      <td>57934</td>\n",
       "      <td>TEXT An error occurred while initializing the ...</td>\n",
       "      <td>C:/Users/milia.io/Downloads/combined/57934.jpg</td>\n",
       "    </tr>\n",
       "    <tr>\n",
       "      <th>8</th>\n",
       "      <td>20966</td>\n",
       "      <td>TOOLBAR 0 999 31 102 (PICTOGRAM a blue globe w...</td>\n",
       "      <td>C:/Users/milia.io/Downloads/combined/20966.jpg</td>\n",
       "    </tr>\n",
       "    <tr>\n",
       "      <th>9</th>\n",
       "      <td>33799</td>\n",
       "      <td>TEXT Welcome 381 635 45 101, PICTOGRAM a white...</td>\n",
       "      <td>C:/Users/milia.io/Downloads/combined/33799.jpg</td>\n",
       "    </tr>\n",
       "  </tbody>\n",
       "</table>\n",
       "</div>"
      ],
      "text/plain": [
       "   screen_id                                  screen_annotation  \\\n",
       "0      39382  TEXT Currency code 79 923 78 111, LIST_ITEM 45...   \n",
       "1      11969  PICTOGRAM thumbs up 390 607 59 228 (IMAGE a si...   \n",
       "2      17058  TOOLBAR 0 999 30 109 (PICTOGRAM three bars 0 1...   \n",
       "3        876  TOOLBAR 0 999 31 108 (PICTOGRAM a black backgr...   \n",
       "4      30751  TOOLBAR 0 999 31 109 (TEXT Inbox 40 158 54 85,...   \n",
       "5      47012  LIST_ITEM 30 482 16 232 (PICTOGRAM a blue circ...   \n",
       "6      56749  PICTOGRAM a white arrow pointing to the left o...   \n",
       "7      57934  TEXT An error occurred while initializing the ...   \n",
       "8      20966  TOOLBAR 0 999 31 102 (PICTOGRAM a blue globe w...   \n",
       "9      33799  TEXT Welcome 381 635 45 101, PICTOGRAM a white...   \n",
       "\n",
       "                                        file_path  \n",
       "0  C:/Users/milia.io/Downloads/combined/39382.jpg  \n",
       "1  C:/Users/milia.io/Downloads/combined/11969.jpg  \n",
       "2  C:/Users/milia.io/Downloads/combined/17058.jpg  \n",
       "3    C:/Users/milia.io/Downloads/combined/876.jpg  \n",
       "4  C:/Users/milia.io/Downloads/combined/30751.jpg  \n",
       "5  C:/Users/milia.io/Downloads/combined/47012.jpg  \n",
       "6  C:/Users/milia.io/Downloads/combined/56749.jpg  \n",
       "7  C:/Users/milia.io/Downloads/combined/57934.jpg  \n",
       "8  C:/Users/milia.io/Downloads/combined/20966.jpg  \n",
       "9  C:/Users/milia.io/Downloads/combined/33799.jpg  "
      ]
     },
     "execution_count": 15,
     "metadata": {},
     "output_type": "execute_result"
    }
   ],
   "source": [
    "df[:10]"
   ]
  },
  {
   "cell_type": "code",
   "execution_count": 16,
   "metadata": {},
   "outputs": [
    {
     "name": "stderr",
     "output_type": "stream",
     "text": [
      "C:\\Users\\milia.io\\AppData\\Local\\Temp\\ipykernel_22128\\343192950.py:6: SettingWithCopyWarning: \n",
      "A value is trying to be set on a copy of a slice from a DataFrame.\n",
      "Try using .loc[row_indexer,col_indexer] = value instead\n",
      "\n",
      "See the caveats in the documentation: https://pandas.pydata.org/pandas-docs/stable/user_guide/indexing.html#returning-a-view-versus-a-copy\n",
      "  df_ten['image'] = df_ten['file_path'].map(map_image)\n"
     ]
    }
   ],
   "source": [
    "def map_image(file_path):\n",
    "    with Image.open(file_path) as im:\n",
    "        return im.tobytes();\n",
    "\n",
    "df_ten = df[:10]\n",
    "df_ten['image'] = df_ten['file_path'].map(map_image)\n"
   ]
  },
  {
   "cell_type": "code",
   "execution_count": 17,
   "metadata": {},
   "outputs": [
    {
     "data": {
      "text/html": [
       "<div>\n",
       "<style scoped>\n",
       "    .dataframe tbody tr th:only-of-type {\n",
       "        vertical-align: middle;\n",
       "    }\n",
       "\n",
       "    .dataframe tbody tr th {\n",
       "        vertical-align: top;\n",
       "    }\n",
       "\n",
       "    .dataframe thead th {\n",
       "        text-align: right;\n",
       "    }\n",
       "</style>\n",
       "<table border=\"1\" class=\"dataframe\">\n",
       "  <thead>\n",
       "    <tr style=\"text-align: right;\">\n",
       "      <th></th>\n",
       "      <th>screen_id</th>\n",
       "      <th>screen_annotation</th>\n",
       "      <th>file_path</th>\n",
       "      <th>image</th>\n",
       "    </tr>\n",
       "  </thead>\n",
       "  <tbody>\n",
       "    <tr>\n",
       "      <th>0</th>\n",
       "      <td>39382</td>\n",
       "      <td>TEXT Currency code 79 923 78 111, LIST_ITEM 45...</td>\n",
       "      <td>C:/Users/milia.io/Downloads/combined/39382.jpg</td>\n",
       "      <td>b'S\\x13\\x13S\\x13\\x13S\\x13\\x13S\\x13\\x13S\\x13\\x1...</td>\n",
       "    </tr>\n",
       "    <tr>\n",
       "      <th>1</th>\n",
       "      <td>11969</td>\n",
       "      <td>PICTOGRAM thumbs up 390 607 59 228 (IMAGE a si...</td>\n",
       "      <td>C:/Users/milia.io/Downloads/combined/11969.jpg</td>\n",
       "      <td>b'\\x00\\x00\\x00\\x00\\x00\\x00\\x00\\x00\\x00\\x00\\x00...</td>\n",
       "    </tr>\n",
       "    <tr>\n",
       "      <th>2</th>\n",
       "      <td>17058</td>\n",
       "      <td>TOOLBAR 0 999 30 109 (PICTOGRAM three bars 0 1...</td>\n",
       "      <td>C:/Users/milia.io/Downloads/combined/17058.jpg</td>\n",
       "      <td>b'\\x1d\\x03B\\x1d\\x03B\\x1d\\x03B\\x1d\\x03B\\x1d\\x03...</td>\n",
       "    </tr>\n",
       "    <tr>\n",
       "      <th>3</th>\n",
       "      <td>876</td>\n",
       "      <td>TOOLBAR 0 999 31 108 (PICTOGRAM a black backgr...</td>\n",
       "      <td>C:/Users/milia.io/Downloads/combined/876.jpg</td>\n",
       "      <td>b'\\x00\\x00\\x00\\x00\\x00\\x00\\x00\\x00\\x00\\x00\\x00...</td>\n",
       "    </tr>\n",
       "    <tr>\n",
       "      <th>4</th>\n",
       "      <td>30751</td>\n",
       "      <td>TOOLBAR 0 999 31 109 (TEXT Inbox 40 158 54 85,...</td>\n",
       "      <td>C:/Users/milia.io/Downloads/combined/30751.jpg</td>\n",
       "      <td>b'\\x004\\xd6\\x004\\xd6\\x004\\xd6\\x004\\xd6\\x004\\xd...</td>\n",
       "    </tr>\n",
       "    <tr>\n",
       "      <th>5</th>\n",
       "      <td>47012</td>\n",
       "      <td>LIST_ITEM 30 482 16 232 (PICTOGRAM a blue circ...</td>\n",
       "      <td>C:/Users/milia.io/Downloads/combined/47012.jpg</td>\n",
       "      <td>b'\\x02w\\xbd\\x02w\\xbd\\x02w\\xbd\\x02w\\xbd\\x02w\\xb...</td>\n",
       "    </tr>\n",
       "    <tr>\n",
       "      <th>6</th>\n",
       "      <td>56749</td>\n",
       "      <td>PICTOGRAM a white arrow pointing to the left o...</td>\n",
       "      <td>C:/Users/milia.io/Downloads/combined/56749.jpg</td>\n",
       "      <td>b'\\x00\\x00\\x00\\x00\\x00\\x00\\x00\\x00\\x00\\x00\\x00...</td>\n",
       "    </tr>\n",
       "    <tr>\n",
       "      <th>7</th>\n",
       "      <td>57934</td>\n",
       "      <td>TEXT An error occurred while initializing the ...</td>\n",
       "      <td>C:/Users/milia.io/Downloads/combined/57934.jpg</td>\n",
       "      <td>b'iiiiiiiiiiiiiiiiiiiiiiiiiiiiiiiiiiiiiiiiiiii...</td>\n",
       "    </tr>\n",
       "    <tr>\n",
       "      <th>8</th>\n",
       "      <td>20966</td>\n",
       "      <td>TOOLBAR 0 999 31 102 (PICTOGRAM a blue globe w...</td>\n",
       "      <td>C:/Users/milia.io/Downloads/combined/20966.jpg</td>\n",
       "      <td>b'\\x00\\x00\\x00\\x00\\x00\\x00\\x00\\x00\\x00\\x00\\x00...</td>\n",
       "    </tr>\n",
       "    <tr>\n",
       "      <th>9</th>\n",
       "      <td>33799</td>\n",
       "      <td>TEXT Welcome 381 635 45 101, PICTOGRAM a white...</td>\n",
       "      <td>C:/Users/milia.io/Downloads/combined/33799.jpg</td>\n",
       "      <td>b'\\x00\\x00\\x00\\x00\\x00\\x00\\x00\\x00\\x00\\x00\\x00...</td>\n",
       "    </tr>\n",
       "  </tbody>\n",
       "</table>\n",
       "</div>"
      ],
      "text/plain": [
       "   screen_id                                  screen_annotation  \\\n",
       "0      39382  TEXT Currency code 79 923 78 111, LIST_ITEM 45...   \n",
       "1      11969  PICTOGRAM thumbs up 390 607 59 228 (IMAGE a si...   \n",
       "2      17058  TOOLBAR 0 999 30 109 (PICTOGRAM three bars 0 1...   \n",
       "3        876  TOOLBAR 0 999 31 108 (PICTOGRAM a black backgr...   \n",
       "4      30751  TOOLBAR 0 999 31 109 (TEXT Inbox 40 158 54 85,...   \n",
       "5      47012  LIST_ITEM 30 482 16 232 (PICTOGRAM a blue circ...   \n",
       "6      56749  PICTOGRAM a white arrow pointing to the left o...   \n",
       "7      57934  TEXT An error occurred while initializing the ...   \n",
       "8      20966  TOOLBAR 0 999 31 102 (PICTOGRAM a blue globe w...   \n",
       "9      33799  TEXT Welcome 381 635 45 101, PICTOGRAM a white...   \n",
       "\n",
       "                                        file_path  \\\n",
       "0  C:/Users/milia.io/Downloads/combined/39382.jpg   \n",
       "1  C:/Users/milia.io/Downloads/combined/11969.jpg   \n",
       "2  C:/Users/milia.io/Downloads/combined/17058.jpg   \n",
       "3    C:/Users/milia.io/Downloads/combined/876.jpg   \n",
       "4  C:/Users/milia.io/Downloads/combined/30751.jpg   \n",
       "5  C:/Users/milia.io/Downloads/combined/47012.jpg   \n",
       "6  C:/Users/milia.io/Downloads/combined/56749.jpg   \n",
       "7  C:/Users/milia.io/Downloads/combined/57934.jpg   \n",
       "8  C:/Users/milia.io/Downloads/combined/20966.jpg   \n",
       "9  C:/Users/milia.io/Downloads/combined/33799.jpg   \n",
       "\n",
       "                                               image  \n",
       "0  b'S\\x13\\x13S\\x13\\x13S\\x13\\x13S\\x13\\x13S\\x13\\x1...  \n",
       "1  b'\\x00\\x00\\x00\\x00\\x00\\x00\\x00\\x00\\x00\\x00\\x00...  \n",
       "2  b'\\x1d\\x03B\\x1d\\x03B\\x1d\\x03B\\x1d\\x03B\\x1d\\x03...  \n",
       "3  b'\\x00\\x00\\x00\\x00\\x00\\x00\\x00\\x00\\x00\\x00\\x00...  \n",
       "4  b'\\x004\\xd6\\x004\\xd6\\x004\\xd6\\x004\\xd6\\x004\\xd...  \n",
       "5  b'\\x02w\\xbd\\x02w\\xbd\\x02w\\xbd\\x02w\\xbd\\x02w\\xb...  \n",
       "6  b'\\x00\\x00\\x00\\x00\\x00\\x00\\x00\\x00\\x00\\x00\\x00...  \n",
       "7  b'iiiiiiiiiiiiiiiiiiiiiiiiiiiiiiiiiiiiiiiiiiii...  \n",
       "8  b'\\x00\\x00\\x00\\x00\\x00\\x00\\x00\\x00\\x00\\x00\\x00...  \n",
       "9  b'\\x00\\x00\\x00\\x00\\x00\\x00\\x00\\x00\\x00\\x00\\x00...  "
      ]
     },
     "execution_count": 17,
     "metadata": {},
     "output_type": "execute_result"
    }
   ],
   "source": [
    "df_ten"
   ]
  },
  {
   "cell_type": "code",
   "execution_count": 18,
   "metadata": {},
   "outputs": [
    {
     "name": "stderr",
     "output_type": "stream",
     "text": [
      "c:\\Users\\milia.io\\programming\\ml\\ai-testing\\myenv\\Lib\\site-packages\\tqdm\\auto.py:21: TqdmWarning: IProgress not found. Please update jupyter and ipywidgets. See https://ipywidgets.readthedocs.io/en/stable/user_install.html\n",
      "  from .autonotebook import tqdm as notebook_tqdm\n"
     ]
    }
   ],
   "source": [
    "from datasets import Dataset\n",
    "\n",
    "dataset = Dataset.from_pandas(df_ten)\n"
   ]
  },
  {
   "cell_type": "code",
   "execution_count": 19,
   "metadata": {},
   "outputs": [
    {
     "data": {
      "text/plain": [
       "Dataset({\n",
       "    features: ['screen_id', 'screen_annotation', 'file_path', 'image'],\n",
       "    num_rows: 10\n",
       "})"
      ]
     },
     "execution_count": 19,
     "metadata": {},
     "output_type": "execute_result"
    }
   ],
   "source": [
    "dataset"
   ]
  },
  {
   "cell_type": "code",
   "execution_count": 14,
   "metadata": {},
   "outputs": [
    {
     "data": {
      "text/html": [
       "<div>\n",
       "<style scoped>\n",
       "    .dataframe tbody tr th:only-of-type {\n",
       "        vertical-align: middle;\n",
       "    }\n",
       "\n",
       "    .dataframe tbody tr th {\n",
       "        vertical-align: top;\n",
       "    }\n",
       "\n",
       "    .dataframe thead th {\n",
       "        text-align: right;\n",
       "    }\n",
       "</style>\n",
       "<table border=\"1\" class=\"dataframe\">\n",
       "  <thead>\n",
       "    <tr style=\"text-align: right;\">\n",
       "      <th></th>\n",
       "      <th>screen_id</th>\n",
       "      <th>screen_annotation</th>\n",
       "      <th>file_path</th>\n",
       "    </tr>\n",
       "  </thead>\n",
       "  <tbody>\n",
       "    <tr>\n",
       "      <th>0</th>\n",
       "      <td>39382</td>\n",
       "      <td>TEXT Currency code 79 923 78 111, LIST_ITEM 45...</td>\n",
       "      <td>C:/Users/milia.io/Downloads/combined/39382.jpg</td>\n",
       "    </tr>\n",
       "    <tr>\n",
       "      <th>1</th>\n",
       "      <td>11969</td>\n",
       "      <td>PICTOGRAM thumbs up 390 607 59 228 (IMAGE a si...</td>\n",
       "      <td>C:/Users/milia.io/Downloads/combined/11969.jpg</td>\n",
       "    </tr>\n",
       "    <tr>\n",
       "      <th>2</th>\n",
       "      <td>17058</td>\n",
       "      <td>TOOLBAR 0 999 30 109 (PICTOGRAM three bars 0 1...</td>\n",
       "      <td>C:/Users/milia.io/Downloads/combined/17058.jpg</td>\n",
       "    </tr>\n",
       "    <tr>\n",
       "      <th>3</th>\n",
       "      <td>876</td>\n",
       "      <td>TOOLBAR 0 999 31 108 (PICTOGRAM a black backgr...</td>\n",
       "      <td>C:/Users/milia.io/Downloads/combined/876.jpg</td>\n",
       "    </tr>\n",
       "    <tr>\n",
       "      <th>4</th>\n",
       "      <td>30751</td>\n",
       "      <td>TOOLBAR 0 999 31 109 (TEXT Inbox 40 158 54 85,...</td>\n",
       "      <td>C:/Users/milia.io/Downloads/combined/30751.jpg</td>\n",
       "    </tr>\n",
       "    <tr>\n",
       "      <th>...</th>\n",
       "      <td>...</td>\n",
       "      <td>...</td>\n",
       "      <td>...</td>\n",
       "    </tr>\n",
       "    <tr>\n",
       "      <th>15543</th>\n",
       "      <td>34202</td>\n",
       "      <td>PICTOGRAM the logo for husheed is white on a r...</td>\n",
       "      <td>C:/Users/milia.io/Downloads/combined/34202.jpg</td>\n",
       "    </tr>\n",
       "    <tr>\n",
       "      <th>15544</th>\n",
       "      <td>5989</td>\n",
       "      <td>PICTOGRAM arrow backward 0 132 31 109, TOOLBAR...</td>\n",
       "      <td>C:/Users/milia.io/Downloads/combined/5989.jpg</td>\n",
       "    </tr>\n",
       "    <tr>\n",
       "      <th>15545</th>\n",
       "      <td>21494</td>\n",
       "      <td>TOOLBAR 0 999 31 103 (PICTOGRAM a black cross ...</td>\n",
       "      <td>C:/Users/milia.io/Downloads/combined/21494.jpg</td>\n",
       "    </tr>\n",
       "    <tr>\n",
       "      <th>15546</th>\n",
       "      <td>49407</td>\n",
       "      <td>TEXT Wallet accounts 220 772 165 220, TEXT In ...</td>\n",
       "      <td>C:/Users/milia.io/Downloads/combined/49407.jpg</td>\n",
       "    </tr>\n",
       "    <tr>\n",
       "      <th>15547</th>\n",
       "      <td>69156</td>\n",
       "      <td>IMAGE a screen shows the temperature at 47 deg...</td>\n",
       "      <td>C:/Users/milia.io/Downloads/combined/69156.jpg</td>\n",
       "    </tr>\n",
       "  </tbody>\n",
       "</table>\n",
       "<p>15548 rows × 3 columns</p>\n",
       "</div>"
      ],
      "text/plain": [
       "       screen_id                                  screen_annotation  \\\n",
       "0          39382  TEXT Currency code 79 923 78 111, LIST_ITEM 45...   \n",
       "1          11969  PICTOGRAM thumbs up 390 607 59 228 (IMAGE a si...   \n",
       "2          17058  TOOLBAR 0 999 30 109 (PICTOGRAM three bars 0 1...   \n",
       "3            876  TOOLBAR 0 999 31 108 (PICTOGRAM a black backgr...   \n",
       "4          30751  TOOLBAR 0 999 31 109 (TEXT Inbox 40 158 54 85,...   \n",
       "...          ...                                                ...   \n",
       "15543      34202  PICTOGRAM the logo for husheed is white on a r...   \n",
       "15544       5989  PICTOGRAM arrow backward 0 132 31 109, TOOLBAR...   \n",
       "15545      21494  TOOLBAR 0 999 31 103 (PICTOGRAM a black cross ...   \n",
       "15546      49407  TEXT Wallet accounts 220 772 165 220, TEXT In ...   \n",
       "15547      69156  IMAGE a screen shows the temperature at 47 deg...   \n",
       "\n",
       "                                            file_path  \n",
       "0      C:/Users/milia.io/Downloads/combined/39382.jpg  \n",
       "1      C:/Users/milia.io/Downloads/combined/11969.jpg  \n",
       "2      C:/Users/milia.io/Downloads/combined/17058.jpg  \n",
       "3        C:/Users/milia.io/Downloads/combined/876.jpg  \n",
       "4      C:/Users/milia.io/Downloads/combined/30751.jpg  \n",
       "...                                               ...  \n",
       "15543  C:/Users/milia.io/Downloads/combined/34202.jpg  \n",
       "15544   C:/Users/milia.io/Downloads/combined/5989.jpg  \n",
       "15545  C:/Users/milia.io/Downloads/combined/21494.jpg  \n",
       "15546  C:/Users/milia.io/Downloads/combined/49407.jpg  \n",
       "15547  C:/Users/milia.io/Downloads/combined/69156.jpg  \n",
       "\n",
       "[15548 rows x 3 columns]"
      ]
     },
     "execution_count": 14,
     "metadata": {},
     "output_type": "execute_result"
    }
   ],
   "source": [
    "df"
   ]
  },
  {
   "cell_type": "code",
   "execution_count": 21,
   "metadata": {},
   "outputs": [],
   "source": [
    "df['image'] = df['file_path']\n",
    "df.drop(columns=['file_path'], inplace=True)\n"
   ]
  },
  {
   "cell_type": "code",
   "execution_count": 26,
   "metadata": {},
   "outputs": [],
   "source": [
    "dataset = Dataset.from_pandas(df).cast_column('image', Image())\n"
   ]
  },
  {
   "cell_type": "code",
   "execution_count": 29,
   "metadata": {},
   "outputs": [
    {
     "data": {
      "text/plain": [
       "Dataset({\n",
       "    features: ['screen_id', 'screen_annotation', 'image'],\n",
       "    num_rows: 15548\n",
       "})"
      ]
     },
     "execution_count": 29,
     "metadata": {},
     "output_type": "execute_result"
    }
   ],
   "source": [
    "dataset"
   ]
  },
  {
   "cell_type": "code",
   "execution_count": 39,
   "metadata": {},
   "outputs": [],
   "source": [
    "from huggingface_hub import notebook_login"
   ]
  },
  {
   "cell_type": "code",
   "execution_count": 41,
   "metadata": {},
   "outputs": [
    {
     "name": "stderr",
     "output_type": "stream",
     "text": [
      "Map: 100%|██████████| 3887/3887 [00:01<00:00, 2469.35 examples/s]s]\n",
      "Creating parquet from Arrow format: 100%|██████████| 39/39 [00:01<00:00, 29.53ba/s]\n",
      "Map: 100%|██████████| 3887/3887 [00:01<00:00, 2588.05 examples/s]117.87s/it]\n",
      "Creating parquet from Arrow format: 100%|██████████| 39/39 [00:01<00:00, 27.85ba/s]\n",
      "Map: 100%|██████████| 3887/3887 [00:01<00:00, 2613.93 examples/s]115.27s/it]\n",
      "Creating parquet from Arrow format: 100%|██████████| 39/39 [00:01<00:00, 29.23ba/s]\n",
      "Map: 100%|██████████| 3887/3887 [00:20<00:00, 186.08 examples/s] 113.56s/it]\n",
      "Creating parquet from Arrow format: 100%|██████████| 39/39 [00:01<00:00, 26.87ba/s]\n",
      "Uploading the dataset shards: 100%|██████████| 4/4 [07:58<00:00, 119.63s/it]\n"
     ]
    },
    {
     "data": {
      "text/plain": [
       "CommitInfo(commit_url='https://huggingface.co/datasets/nickhobbs09/screen-ai-annotation/commit/f4df0532fa2e76ab5f27181ba54235274159a7e9', commit_message='Upload dataset', commit_description='', oid='f4df0532fa2e76ab5f27181ba54235274159a7e9', pr_url=None, pr_revision=None, pr_num=None)"
      ]
     },
     "execution_count": 41,
     "metadata": {},
     "output_type": "execute_result"
    }
   ],
   "source": [
    "dataset.push_to_hub('nickhobbs09/screen-ai-annotation', private=True)"
   ]
  },
  {
   "cell_type": "code",
   "execution_count": null,
   "metadata": {},
   "outputs": [],
   "source": []
  }
 ],
 "metadata": {
  "kernelspec": {
   "display_name": "myenv",
   "language": "python",
   "name": "python3"
  },
  "language_info": {
   "codemirror_mode": {
    "name": "ipython",
    "version": 3
   },
   "file_extension": ".py",
   "mimetype": "text/x-python",
   "name": "python",
   "nbconvert_exporter": "python",
   "pygments_lexer": "ipython3",
   "version": "3.12.2"
  }
 },
 "nbformat": 4,
 "nbformat_minor": 2
}
